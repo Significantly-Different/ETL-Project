{
 "cells": [
  {
   "cell_type": "code",
   "execution_count": 11,
   "metadata": {},
   "outputs": [],
   "source": [
    "# Dependencies\n",
    "import pandas as pd\n",
    "from sqlalchemy import create_engine"
   ]
  },
  {
   "cell_type": "code",
   "execution_count": 13,
   "metadata": {},
   "outputs": [
    {
     "data": {
      "text/plain": [
       "Index(['League', 'Team', 'Season', 'KEY', 'Player', 'Position', 'Appearances',\n",
       "       'Goals', 'Started', 'Started As A Sub', 'Came On', 'Taken Off',\n",
       "       'Own Goals', 'Type Of Goal', 'First Half', 'Second Half',\n",
       "       'First Scorer', 'Last Scorer', 'Home', 'Away', 'Right Foot',\n",
       "       'Left Foot', 'Header', 'Other Method', 'Open Play', 'Cross',\n",
       "       'Free Kick', 'Direct Free Kick', 'Throw In', 'Penalty', 'Corner',\n",
       "       'Other Type Of Play', 'Minutes played', 'Min/goal', 'Assists',\n",
       "       '% Assists', 'Leading Recipient', 'Recipient Goals', 'CS',\n",
       "       '% Clean Sheets', 'Hat Tricks', 'Yellow Cards', 'Yellow - First Half',\n",
       "       'Yellow - Second Half', 'Yellow - Home', 'Yellow - Away',\n",
       "       'Yelow - Minutes Played', 'Minutes per Yellow Cards', 'Sent Off',\n",
       "       'Straight Red Card', 'Two Yellow Cards', 'Red - First Half',\n",
       "       'Red - Second Half', 'Red - Home', 'Red - Away', 'Red - Minutes Played',\n",
       "       'Minutes per Red Cards'],\n",
       "      dtype='object')"
      ]
     },
     "execution_count": 13,
     "metadata": {},
     "output_type": "execute_result"
    }
   ],
   "source": [
    "# importing database\n",
    "csv = \"../ETL-Project/data/player_stats_17_18.csv\"\n",
    "player_stats_17_18_df = pd.read_csv(csv)\n",
    "player_stats_17_18_df.head()\n",
    "player_stats_17_18_df.columns"
   ]
  },
  {
   "cell_type": "code",
   "execution_count": 20,
   "metadata": {},
   "outputs": [
    {
     "data": {
      "text/html": [
       "<div>\n",
       "<style scoped>\n",
       "    .dataframe tbody tr th:only-of-type {\n",
       "        vertical-align: middle;\n",
       "    }\n",
       "\n",
       "    .dataframe tbody tr th {\n",
       "        vertical-align: top;\n",
       "    }\n",
       "\n",
       "    .dataframe thead th {\n",
       "        text-align: right;\n",
       "    }\n",
       "</style>\n",
       "<table border=\"1\" class=\"dataframe\">\n",
       "  <thead>\n",
       "    <tr style=\"text-align: right;\">\n",
       "      <th></th>\n",
       "      <th>League</th>\n",
       "      <th>Team</th>\n",
       "      <th>Season</th>\n",
       "      <th>KEY</th>\n",
       "      <th>Player</th>\n",
       "      <th>Position</th>\n",
       "      <th>Appearances</th>\n",
       "      <th>Goals</th>\n",
       "      <th>Started</th>\n",
       "      <th>Type Of Goal</th>\n",
       "      <th>...</th>\n",
       "      <th>Header</th>\n",
       "      <th>Other Method</th>\n",
       "      <th>Minutes played</th>\n",
       "      <th>Min/goal</th>\n",
       "      <th>Assists</th>\n",
       "      <th>% Assists</th>\n",
       "      <th>CS</th>\n",
       "      <th>% Clean Sheets</th>\n",
       "      <th>Hat Tricks</th>\n",
       "      <th>Yellow Cards</th>\n",
       "    </tr>\n",
       "  </thead>\n",
       "  <tbody>\n",
       "    <tr>\n",
       "      <th>1</th>\n",
       "      <td>Premier League</td>\n",
       "      <td>Manchester City</td>\n",
       "      <td>2017/18</td>\n",
       "      <td>Premier League|Manchester City|2017/18</td>\n",
       "      <td>Kevin De Bruyne</td>\n",
       "      <td>Midfielder</td>\n",
       "      <td>37.0</td>\n",
       "      <td>8</td>\n",
       "      <td>36.0</td>\n",
       "      <td>Player</td>\n",
       "      <td>...</td>\n",
       "      <td>-</td>\n",
       "      <td>-</td>\n",
       "      <td>3085.0</td>\n",
       "      <td>386.0</td>\n",
       "      <td>16.0</td>\n",
       "      <td>16.0</td>\n",
       "      <td>0.0</td>\n",
       "      <td>0</td>\n",
       "      <td>0.0</td>\n",
       "      <td>1</td>\n",
       "    </tr>\n",
       "    <tr>\n",
       "      <th>2</th>\n",
       "      <td>Premier League</td>\n",
       "      <td>Manchester City</td>\n",
       "      <td>2017/18</td>\n",
       "      <td>Premier League|Manchester City|2017/18</td>\n",
       "      <td>Ederson</td>\n",
       "      <td>Goalkeeper</td>\n",
       "      <td>36.0</td>\n",
       "      <td>0</td>\n",
       "      <td>36.0</td>\n",
       "      <td>Player</td>\n",
       "      <td>...</td>\n",
       "      <td>0</td>\n",
       "      <td>0</td>\n",
       "      <td>0.0</td>\n",
       "      <td>0.0</td>\n",
       "      <td>0.0</td>\n",
       "      <td>0.0</td>\n",
       "      <td>17.0</td>\n",
       "      <td>47.22%</td>\n",
       "      <td>0.0</td>\n",
       "      <td>0</td>\n",
       "    </tr>\n",
       "    <tr>\n",
       "      <th>3</th>\n",
       "      <td>Premier League</td>\n",
       "      <td>Manchester City</td>\n",
       "      <td>2017/18</td>\n",
       "      <td>Premier League|Manchester City|2017/18</td>\n",
       "      <td>Bernardo Silva</td>\n",
       "      <td>Midfielder</td>\n",
       "      <td>35.0</td>\n",
       "      <td>6</td>\n",
       "      <td>15.0</td>\n",
       "      <td>Player</td>\n",
       "      <td>...</td>\n",
       "      <td>-</td>\n",
       "      <td>-</td>\n",
       "      <td>1519.0</td>\n",
       "      <td>253.0</td>\n",
       "      <td>0.0</td>\n",
       "      <td>0.0</td>\n",
       "      <td>0.0</td>\n",
       "      <td>0</td>\n",
       "      <td>0.0</td>\n",
       "      <td>0</td>\n",
       "    </tr>\n",
       "    <tr>\n",
       "      <th>4</th>\n",
       "      <td>Premier League</td>\n",
       "      <td>Manchester City</td>\n",
       "      <td>2017/18</td>\n",
       "      <td>Premier League|Manchester City|2017/18</td>\n",
       "      <td>Fernandinho</td>\n",
       "      <td>Midfielder</td>\n",
       "      <td>34.0</td>\n",
       "      <td>5</td>\n",
       "      <td>33.0</td>\n",
       "      <td>Player</td>\n",
       "      <td>...</td>\n",
       "      <td>-</td>\n",
       "      <td>-</td>\n",
       "      <td>0.0</td>\n",
       "      <td>0.0</td>\n",
       "      <td>0.0</td>\n",
       "      <td>0.0</td>\n",
       "      <td>0.0</td>\n",
       "      <td>0</td>\n",
       "      <td>0.0</td>\n",
       "      <td>7</td>\n",
       "    </tr>\n",
       "    <tr>\n",
       "      <th>5</th>\n",
       "      <td>Premier League</td>\n",
       "      <td>Manchester City</td>\n",
       "      <td>2017/18</td>\n",
       "      <td>Premier League|Manchester City|2017/18</td>\n",
       "      <td>Nicolas Otamendi</td>\n",
       "      <td>Defender</td>\n",
       "      <td>34.0</td>\n",
       "      <td>4</td>\n",
       "      <td>33.0</td>\n",
       "      <td>Player</td>\n",
       "      <td>...</td>\n",
       "      <td>2</td>\n",
       "      <td>-</td>\n",
       "      <td>0.0</td>\n",
       "      <td>0.0</td>\n",
       "      <td>0.0</td>\n",
       "      <td>0.0</td>\n",
       "      <td>0.0</td>\n",
       "      <td>0</td>\n",
       "      <td>0.0</td>\n",
       "      <td>9</td>\n",
       "    </tr>\n",
       "  </tbody>\n",
       "</table>\n",
       "<p>5 rows × 22 columns</p>\n",
       "</div>"
      ],
      "text/plain": [
       "           League             Team   Season  \\\n",
       "1  Premier League  Manchester City  2017/18   \n",
       "2  Premier League  Manchester City  2017/18   \n",
       "3  Premier League  Manchester City  2017/18   \n",
       "4  Premier League  Manchester City  2017/18   \n",
       "5  Premier League  Manchester City  2017/18   \n",
       "\n",
       "                                      KEY            Player    Position  \\\n",
       "1  Premier League|Manchester City|2017/18   Kevin De Bruyne  Midfielder   \n",
       "2  Premier League|Manchester City|2017/18           Ederson  Goalkeeper   \n",
       "3  Premier League|Manchester City|2017/18    Bernardo Silva  Midfielder   \n",
       "4  Premier League|Manchester City|2017/18       Fernandinho  Midfielder   \n",
       "5  Premier League|Manchester City|2017/18  Nicolas Otamendi    Defender   \n",
       "\n",
       "   Appearances  Goals  Started Type Of Goal  ... Header Other Method  \\\n",
       "1         37.0      8     36.0       Player  ...      -            -   \n",
       "2         36.0      0     36.0       Player  ...      0            0   \n",
       "3         35.0      6     15.0       Player  ...      -            -   \n",
       "4         34.0      5     33.0       Player  ...      -            -   \n",
       "5         34.0      4     33.0       Player  ...      2            -   \n",
       "\n",
       "  Minutes played Min/goal  Assists  % Assists    CS  % Clean Sheets  \\\n",
       "1         3085.0    386.0     16.0       16.0   0.0               0   \n",
       "2            0.0      0.0      0.0        0.0  17.0          47.22%   \n",
       "3         1519.0    253.0      0.0        0.0   0.0               0   \n",
       "4            0.0      0.0      0.0        0.0   0.0               0   \n",
       "5            0.0      0.0      0.0        0.0   0.0               0   \n",
       "\n",
       "   Hat Tricks Yellow Cards  \n",
       "1         0.0            1  \n",
       "2         0.0            0  \n",
       "3         0.0            0  \n",
       "4         0.0            7  \n",
       "5         0.0            9  \n",
       "\n",
       "[5 rows x 22 columns]"
      ]
     },
     "execution_count": 20,
     "metadata": {},
     "output_type": "execute_result"
    }
   ],
   "source": [
    "# tranforming dataset\n",
    "new_17_18_df = player_stats_17_18_df[['League', 'Team', 'Season', 'KEY', 'Player', 'Position', 'Appearances',\n",
    "       'Goals', 'Started', 'Type Of Goal', 'Right Foot', 'Left Foot', 'Header', 'Other Method', 'Minutes played',\n",
    "       'Min/goal', 'Assists', '% Assists', 'CS', '% Clean Sheets', 'Hat Tricks', 'Yellow Cards']].copy()\n",
    "new_17_18_df.fillna(0, inplace=True)\n",
    "new_17_18_df.drop(new_17_18_df[new_17_18_df['Player'] == 0].index, inplace=True)\n",
    "\n",
    "new_17_18_df.head()"
   ]
  },
  {
   "cell_type": "code",
   "execution_count": 21,
   "metadata": {},
   "outputs": [
    {
     "ename": "ImportError",
     "evalue": "dlopen(/Library/Frameworks/Python.framework/Versions/3.8/lib/python3.8/site-packages/psycopg2/_psycopg.cpython-38-darwin.so, 2): Library not loaded: @rpath/libssl.1.1.dylib\n  Referenced from: /Library/Frameworks/Python.framework/Versions/3.8/lib/python3.8/site-packages/psycopg2/_psycopg.cpython-38-darwin.so\n  Reason: image not found",
     "output_type": "error",
     "traceback": [
      "\u001b[0;31m---------------------------------------------------------------------------\u001b[0m",
      "\u001b[0;31mImportError\u001b[0m                               Traceback (most recent call last)",
      "\u001b[0;32m<ipython-input-21-7cde3f34e51d>\u001b[0m in \u001b[0;36m<module>\u001b[0;34m\u001b[0m\n\u001b[1;32m      1\u001b[0m \u001b[0mrds_connection_string\u001b[0m \u001b[0;34m=\u001b[0m \u001b[0;34m\"postgres:password@localhost:5432/players_17_18_db\"\u001b[0m\u001b[0;34m\u001b[0m\u001b[0;34m\u001b[0m\u001b[0m\n\u001b[0;32m----> 2\u001b[0;31m \u001b[0mengine\u001b[0m \u001b[0;34m=\u001b[0m \u001b[0mcreate_engine\u001b[0m\u001b[0;34m(\u001b[0m\u001b[0;34mf'postgresql://{rds_connection_string}'\u001b[0m\u001b[0;34m)\u001b[0m\u001b[0;34m\u001b[0m\u001b[0;34m\u001b[0m\u001b[0m\n\u001b[0m",
      "\u001b[0;32m/Library/Frameworks/Python.framework/Versions/3.8/lib/python3.8/site-packages/sqlalchemy/engine/__init__.py\u001b[0m in \u001b[0;36mcreate_engine\u001b[0;34m(*args, **kwargs)\u001b[0m\n\u001b[1;32m    477\u001b[0m     \u001b[0mstrategy\u001b[0m \u001b[0;34m=\u001b[0m \u001b[0mkwargs\u001b[0m\u001b[0;34m.\u001b[0m\u001b[0mpop\u001b[0m\u001b[0;34m(\u001b[0m\u001b[0;34m\"strategy\"\u001b[0m\u001b[0;34m,\u001b[0m \u001b[0mdefault_strategy\u001b[0m\u001b[0;34m)\u001b[0m\u001b[0;34m\u001b[0m\u001b[0;34m\u001b[0m\u001b[0m\n\u001b[1;32m    478\u001b[0m     \u001b[0mstrategy\u001b[0m \u001b[0;34m=\u001b[0m \u001b[0mstrategies\u001b[0m\u001b[0;34m.\u001b[0m\u001b[0mstrategies\u001b[0m\u001b[0;34m[\u001b[0m\u001b[0mstrategy\u001b[0m\u001b[0;34m]\u001b[0m\u001b[0;34m\u001b[0m\u001b[0;34m\u001b[0m\u001b[0m\n\u001b[0;32m--> 479\u001b[0;31m     \u001b[0;32mreturn\u001b[0m \u001b[0mstrategy\u001b[0m\u001b[0;34m.\u001b[0m\u001b[0mcreate\u001b[0m\u001b[0;34m(\u001b[0m\u001b[0;34m*\u001b[0m\u001b[0margs\u001b[0m\u001b[0;34m,\u001b[0m \u001b[0;34m**\u001b[0m\u001b[0mkwargs\u001b[0m\u001b[0;34m)\u001b[0m\u001b[0;34m\u001b[0m\u001b[0;34m\u001b[0m\u001b[0m\n\u001b[0m\u001b[1;32m    480\u001b[0m \u001b[0;34m\u001b[0m\u001b[0m\n\u001b[1;32m    481\u001b[0m \u001b[0;34m\u001b[0m\u001b[0m\n",
      "\u001b[0;32m/Library/Frameworks/Python.framework/Versions/3.8/lib/python3.8/site-packages/sqlalchemy/engine/strategies.py\u001b[0m in \u001b[0;36mcreate\u001b[0;34m(self, name_or_url, **kwargs)\u001b[0m\n\u001b[1;32m     85\u001b[0m                 \u001b[0;32mif\u001b[0m \u001b[0mk\u001b[0m \u001b[0;32min\u001b[0m \u001b[0mkwargs\u001b[0m\u001b[0;34m:\u001b[0m\u001b[0;34m\u001b[0m\u001b[0;34m\u001b[0m\u001b[0m\n\u001b[1;32m     86\u001b[0m                     \u001b[0mdbapi_args\u001b[0m\u001b[0;34m[\u001b[0m\u001b[0mk\u001b[0m\u001b[0;34m]\u001b[0m \u001b[0;34m=\u001b[0m \u001b[0mpop_kwarg\u001b[0m\u001b[0;34m(\u001b[0m\u001b[0mk\u001b[0m\u001b[0;34m)\u001b[0m\u001b[0;34m\u001b[0m\u001b[0;34m\u001b[0m\u001b[0m\n\u001b[0;32m---> 87\u001b[0;31m             \u001b[0mdbapi\u001b[0m \u001b[0;34m=\u001b[0m \u001b[0mdialect_cls\u001b[0m\u001b[0;34m.\u001b[0m\u001b[0mdbapi\u001b[0m\u001b[0;34m(\u001b[0m\u001b[0;34m**\u001b[0m\u001b[0mdbapi_args\u001b[0m\u001b[0;34m)\u001b[0m\u001b[0;34m\u001b[0m\u001b[0;34m\u001b[0m\u001b[0m\n\u001b[0m\u001b[1;32m     88\u001b[0m \u001b[0;34m\u001b[0m\u001b[0m\n\u001b[1;32m     89\u001b[0m         \u001b[0mdialect_args\u001b[0m\u001b[0;34m[\u001b[0m\u001b[0;34m\"dbapi\"\u001b[0m\u001b[0;34m]\u001b[0m \u001b[0;34m=\u001b[0m \u001b[0mdbapi\u001b[0m\u001b[0;34m\u001b[0m\u001b[0;34m\u001b[0m\u001b[0m\n",
      "\u001b[0;32m/Library/Frameworks/Python.framework/Versions/3.8/lib/python3.8/site-packages/sqlalchemy/dialects/postgresql/psycopg2.py\u001b[0m in \u001b[0;36mdbapi\u001b[0;34m(cls)\u001b[0m\n\u001b[1;32m    735\u001b[0m     \u001b[0;34m@\u001b[0m\u001b[0mclassmethod\u001b[0m\u001b[0;34m\u001b[0m\u001b[0;34m\u001b[0m\u001b[0m\n\u001b[1;32m    736\u001b[0m     \u001b[0;32mdef\u001b[0m \u001b[0mdbapi\u001b[0m\u001b[0;34m(\u001b[0m\u001b[0mcls\u001b[0m\u001b[0;34m)\u001b[0m\u001b[0;34m:\u001b[0m\u001b[0;34m\u001b[0m\u001b[0;34m\u001b[0m\u001b[0m\n\u001b[0;32m--> 737\u001b[0;31m         \u001b[0;32mimport\u001b[0m \u001b[0mpsycopg2\u001b[0m\u001b[0;34m\u001b[0m\u001b[0;34m\u001b[0m\u001b[0m\n\u001b[0m\u001b[1;32m    738\u001b[0m \u001b[0;34m\u001b[0m\u001b[0m\n\u001b[1;32m    739\u001b[0m         \u001b[0;32mreturn\u001b[0m \u001b[0mpsycopg2\u001b[0m\u001b[0;34m\u001b[0m\u001b[0;34m\u001b[0m\u001b[0m\n",
      "\u001b[0;32m/Library/Frameworks/Python.framework/Versions/3.8/lib/python3.8/site-packages/psycopg2/__init__.py\u001b[0m in \u001b[0;36m<module>\u001b[0;34m\u001b[0m\n\u001b[1;32m     49\u001b[0m \u001b[0;31m# Import the DBAPI-2.0 stuff into top-level module.\u001b[0m\u001b[0;34m\u001b[0m\u001b[0;34m\u001b[0m\u001b[0;34m\u001b[0m\u001b[0m\n\u001b[1;32m     50\u001b[0m \u001b[0;34m\u001b[0m\u001b[0m\n\u001b[0;32m---> 51\u001b[0;31m from psycopg2._psycopg import (                     # noqa\n\u001b[0m\u001b[1;32m     52\u001b[0m     \u001b[0mBINARY\u001b[0m\u001b[0;34m,\u001b[0m \u001b[0mNUMBER\u001b[0m\u001b[0;34m,\u001b[0m \u001b[0mSTRING\u001b[0m\u001b[0;34m,\u001b[0m \u001b[0mDATETIME\u001b[0m\u001b[0;34m,\u001b[0m \u001b[0mROWID\u001b[0m\u001b[0;34m,\u001b[0m\u001b[0;34m\u001b[0m\u001b[0;34m\u001b[0m\u001b[0m\n\u001b[1;32m     53\u001b[0m \u001b[0;34m\u001b[0m\u001b[0m\n",
      "\u001b[0;31mImportError\u001b[0m: dlopen(/Library/Frameworks/Python.framework/Versions/3.8/lib/python3.8/site-packages/psycopg2/_psycopg.cpython-38-darwin.so, 2): Library not loaded: @rpath/libssl.1.1.dylib\n  Referenced from: /Library/Frameworks/Python.framework/Versions/3.8/lib/python3.8/site-packages/psycopg2/_psycopg.cpython-38-darwin.so\n  Reason: image not found"
     ]
    }
   ],
   "source": [
    "rds_connection_string = \"postgres:password@localhost:5432/players_17_18_db\"\n",
    "engine = create_engine(f'postgresql://{rds_connection_string}')"
   ]
  },
  {
   "cell_type": "code",
   "execution_count": 22,
   "metadata": {},
   "outputs": [
    {
     "ename": "NameError",
     "evalue": "name 'enigne' is not defined",
     "output_type": "error",
     "traceback": [
      "\u001b[0;31m---------------------------------------------------------------------------\u001b[0m",
      "\u001b[0;31mNameError\u001b[0m                                 Traceback (most recent call last)",
      "\u001b[0;32m<ipython-input-22-c54d128b94ff>\u001b[0m in \u001b[0;36m<module>\u001b[0;34m\u001b[0m\n\u001b[0;32m----> 1\u001b[0;31m \u001b[0menigne\u001b[0m\u001b[0;34m.\u001b[0m\u001b[0mtable_names\u001b[0m\u001b[0;34m(\u001b[0m\u001b[0;34m)\u001b[0m\u001b[0;34m\u001b[0m\u001b[0;34m\u001b[0m\u001b[0m\n\u001b[0m",
      "\u001b[0;31mNameError\u001b[0m: name 'enigne' is not defined"
     ]
    }
   ],
   "source": [
    "enigne.table_names()"
   ]
  },
  {
   "cell_type": "code",
   "execution_count": 10,
   "metadata": {},
   "outputs": [
    {
     "ename": "NameError",
     "evalue": "name 'enigne' is not defined",
     "output_type": "error",
     "traceback": [
      "\u001b[0;31m---------------------------------------------------------------------------\u001b[0m",
      "\u001b[0;31mNameError\u001b[0m                                 Traceback (most recent call last)",
      "\u001b[0;32m<ipython-input-10-ab4051a53ac2>\u001b[0m in \u001b[0;36m<module>\u001b[0;34m\u001b[0m\n\u001b[0;32m----> 1\u001b[0;31m \u001b[0mnew_17_df\u001b[0m\u001b[0;34m.\u001b[0m\u001b[0mto_sql\u001b[0m\u001b[0;34m(\u001b[0m\u001b[0mname\u001b[0m\u001b[0;34m=\u001b[0m\u001b[0;34m'Player Stats 17-18'\u001b[0m\u001b[0;34m,\u001b[0m \u001b[0mcon\u001b[0m\u001b[0;34m=\u001b[0m\u001b[0menigne\u001b[0m\u001b[0;34m,\u001b[0m \u001b[0mif_exists\u001b[0m\u001b[0;34m=\u001b[0m\u001b[0;34m'append'\u001b[0m\u001b[0;34m,\u001b[0m \u001b[0mindex\u001b[0m\u001b[0;34m=\u001b[0m\u001b[0;32mFalse\u001b[0m\u001b[0;34m)\u001b[0m\u001b[0;34m\u001b[0m\u001b[0;34m\u001b[0m\u001b[0m\n\u001b[0m",
      "\u001b[0;31mNameError\u001b[0m: name 'enigne' is not defined"
     ]
    }
   ],
   "source": [
    "new_17_18_df.to_sql(name='player_stats_17_18', con=enigne, if_exists='append', index=False)"
   ]
  },
  {
   "cell_type": "code",
   "execution_count": null,
   "metadata": {},
   "outputs": [],
   "source": [
    "pd.read_sql_query('SELECT * FROM player_stats_17_18', con=eninge).head()"
   ]
  }
 ],
 "metadata": {
  "kernelspec": {
   "display_name": "Python 3",
   "language": "python",
   "name": "python3"
  },
  "language_info": {
   "codemirror_mode": {
    "name": "ipython",
    "version": 3
   },
   "file_extension": ".py",
   "mimetype": "text/x-python",
   "name": "python",
   "nbconvert_exporter": "python",
   "pygments_lexer": "ipython3",
   "version": "3.8.1"
  }
 },
 "nbformat": 4,
 "nbformat_minor": 4
}
