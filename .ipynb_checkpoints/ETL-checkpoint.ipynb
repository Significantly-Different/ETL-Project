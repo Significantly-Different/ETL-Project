{
 "cells": [
  {
   "cell_type": "code",
   "execution_count": null,
   "metadata": {},
   "outputs": [],
   "source": [
    "#dependencies\n",
    "import pandas as pd\n",
    "from sqlalchemy import create_engine"
   ]
  },
  {
   "cell_type": "code",
   "execution_count": null,
   "metadata": {},
   "outputs": [],
   "source": [
    "#importing dataset 1\n",
    "csv_file = \"data/fifa_19.csv\"\n",
    "players_19_df = pd.read_csv(csv_file)\n",
    "players_19_df.head()"
   ]
  },
  {
   "cell_type": "code",
   "execution_count": null,
   "metadata": {},
   "outputs": [],
   "source": [
    "#importing dataset 2\n",
    "path = \"data/player_stats_18_19.csv\"\n",
    "stats_18_19 = pd.read_csv(path)\n",
    "stats_18_19.head()"
   ]
  },
  {
   "cell_type": "code",
   "execution_count": null,
   "metadata": {},
   "outputs": [],
   "source": [
    "#importing dataset 3\n",
    "csv = \"data/player_stats_17_18.csv\"\n",
    "player_stats_17_18_df = pd.read_csv(csv)\n",
    "player_stats_17_18_df.head()"
   ]
  },
  {
   "cell_type": "code",
   "execution_count": null,
   "metadata": {},
   "outputs": [],
   "source": [
    "#importing dataset 4\n",
    "csv_file = \"data/fifa_20.csv\"\n",
    "players_20_df = pd.read_csv(csv_file)\n",
    "players_20_df.head()"
   ]
  },
  {
   "cell_type": "code",
   "execution_count": null,
   "metadata": {},
   "outputs": [],
   "source": [
    "#transforming dataset 1\n",
    "new_players_19_df = players_19_df[['sofifa_id', 'short_name', 'overall', 'pace', 'shooting', 'passing', 'dribbling', 'defending', 'physic']].copy()\n",
    "new_players_19_df = new_players_19_df.dropna()\n",
    "new_players_19_df.head()"
   ]
  },
  {
   "cell_type": "code",
   "execution_count": null,
   "metadata": {},
   "outputs": [],
   "source": [
    "#transforming dataset 2\n",
    "#taking the needed columns\n",
    "new_stats_18_19 = stats_18_19[['League', 'Team', 'Season', 'Player', 'Position','Goals','Assists', 'Yellow Cards']].copy()\n",
    "#changing the assist NaN value to 0\n",
    "new_stats_18_19.fillna(0,inplace=True)\n",
    "#dataset has team totals as a row value, dropping that value\n",
    "new_stats_18_19.drop(new_stats_18_19[new_stats_18_19['Player'] == 0].index, inplace = True) \n",
    "\n",
    "\n",
    "new_stats_18_19.head()"
   ]
  },
  {
   "cell_type": "code",
   "execution_count": null,
   "metadata": {},
   "outputs": [],
   "source": [
    "#transforming dataset 3\n",
    "new_17_18_df = player_stats_17_18_df[['League', 'Team', 'Season', 'Player', 'Position','Goals', 'Assists', 'Yellow Cards']].copy()\n",
    "new_17_18_df.fillna(0, inplace=True)\n",
    "new_17_18_df.drop(new_17_18_df[new_17_18_df['Player'] == 0].index, inplace=True)\n",
    "\n",
    "new_17_18_df.head()"
   ]
  },
  {
   "cell_type": "code",
   "execution_count": null,
   "metadata": {},
   "outputs": [],
   "source": [
    "#transforming dataset 4\n",
    "new_players_20_df = players_20_df[['sofifa_id', 'short_name', 'overall', 'pace', 'shooting', 'passing', 'dribbling', 'defending', 'physic']].copy()\n",
    "new_players_20_df = new_players_20_df.dropna()\n",
    "new_players_20_df.head()"
   ]
  },
  {
   "cell_type": "code",
   "execution_count": null,
   "metadata": {},
   "outputs": [],
   "source": [
    "#loading into the database\n",
    "rds_connection_string = \"postgres:5Skurlalane!@localhost:5432/Fifa_ETL_Proj\"\n",
    "engine = create_engine(f'postgresql://{rds_connection_string}')\n",
    "new_players_19_df.to_sql(name='fifa__19', con=engine, if_exists='append', index=False)\n",
    "new_stats_18_19.to_sql(name='player_stats_18_19',con=engine, if_exists='append', index=False)\n",
    "new_17_18_df.to_sql(name='player_stats_17_18', con=engine, if_exists='append', index=False)\n",
    "new_players_20_df.to_sql(name='fifa_20', con=engine, if_exists='append', index=False)"
   ]
  },
  {
   "cell_type": "code",
   "execution_count": null,
   "metadata": {},
   "outputs": [],
   "source": [
    "#confirmation queries\n",
    "pd.read_sql_query('select * from fifa__19', con=engine).head()"
   ]
  },
  {
   "cell_type": "code",
   "execution_count": null,
   "metadata": {},
   "outputs": [],
   "source": [
    "pd.read_sql_query('select * from player_stats_18_19', con=engine).head()"
   ]
  },
  {
   "cell_type": "code",
   "execution_count": null,
   "metadata": {},
   "outputs": [],
   "source": [
    "pd.read_sql_query('SELECT * FROM player_stats_17_18', con=engine).head()"
   ]
  },
  {
   "cell_type": "code",
   "execution_count": null,
   "metadata": {},
   "outputs": [],
   "source": [
    "pd.read_sql_query('select * from fifa_20', con=engine).head()"
   ]
  },
  {
   "cell_type": "code",
   "execution_count": null,
   "metadata": {},
   "outputs": [],
   "source": []
  }
 ],
 "metadata": {
  "kernelspec": {
   "display_name": "Python 3",
   "language": "python",
   "name": "python3"
  },
  "language_info": {
   "codemirror_mode": {
    "name": "ipython",
    "version": 3
   },
   "file_extension": ".py",
   "mimetype": "text/x-python",
   "name": "python",
   "nbconvert_exporter": "python",
   "pygments_lexer": "ipython3",
   "version": "3.7.4"
  }
 },
 "nbformat": 4,
 "nbformat_minor": 4
}
